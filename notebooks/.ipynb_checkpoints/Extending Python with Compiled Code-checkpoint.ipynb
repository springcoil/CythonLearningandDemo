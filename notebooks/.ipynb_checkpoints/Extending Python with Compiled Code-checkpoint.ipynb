{
 "cells": [
  {
   "cell_type": "markdown",
   "metadata": {},
   "source": [
    "# Extending Python \n",
    "This is just a little notebook based on some lectures from Jake Vanderplas\n",
    "That I made to talk about different approaches to leveraging C code in Python"
   ]
  },
  {
   "cell_type": "code",
   "execution_count": 3,
   "metadata": {
    "collapsed": false
   },
   "outputs": [
    {
     "name": "stdout",
     "output_type": "stream",
     "text": [
      "bundle1.o\t\t\t   libkmod.a\r\n",
      "charset.alias\t\t\t   libkmodc++.a\r\n",
      "cron\t\t\t\t   libkrb4.dylib\r\n",
      "crt1.10.5.o\t\t\t   libkrb5.dylib\r\n",
      "crt1.10.6.o\t\t\t   libkrb524.dylib\r\n",
      "crt1.o\t\t\t\t   libkrb5support.dylib\r\n",
      "dtrace\t\t\t\t   libktrace.dylib\r\n",
      "dyld\t\t\t\t   libl.a\r\n",
      "dylib1.10.5.o\t\t\t   liblangid.dylib\r\n",
      "dylib1.o\t\t\t   liblapack.dylib\r\n",
      "gcrt1.o\t\t\t\t   liblber.dylib\r\n",
      "groff\t\t\t\t   libldap.dylib\r\n",
      "lazydylib1.o\t\t\t   libldap_r.dylib\r\n",
      "libACSClient.dylib\t\t   liblzma.5.dylib\r\n",
      "libAccountPolicyTranslation.dylib  liblzma.dylib\r\n",
      "libBSDPClient.A.dylib\t\t   libm.dylib\r\n",
      "libBSDPClient.dylib\t\t   libmecab.1.0.0.dylib\r\n",
      "libCRFSuite.dylib\t\t   libmecab.dylib\r\n",
      "libCRFSuite0.12.dylib\t\t   libmecabra.dylib\r\n",
      "libCoreStorage.dylib\t\t   libmenu.5.4.dylib\r\n",
      "libDHCPServer.A.dylib\t\t   libmenu.dylib\r\n",
      "libDHCPServer.dylib\t\t   libmx.A.dylib\r\n",
      "libDiagnosticMessagesClient.dylib  libmx.dylib\r\n",
      "libIASAuthReboot.dylib\t\t   libncurses.5.4.dylib\r\n",
      "libMatch.1.dylib\t\t   libncurses.5.dylib\r\n",
      "libMatch.dylib\t\t\t   libncurses.dylib\r\n",
      "libOpenScriptingUtil.dylib\t   libnetsnmp.15.1.2.dylib\r\n",
      "libScreenReader.dylib\t\t   libnetsnmp.15.dylib\r\n",
      "libSystem.B.dylib\t\t   libnetsnmp.25.dylib\r\n",
      "libSystem.B_debug.tbd\t\t   libnetsnmp.5.2.1.dylib\r\n",
      "libSystem.dylib\t\t\t   libnetsnmp.5.dylib\r\n",
      "libSystem_debug.tbd\t\t   libnetsnmp.dylib\r\n",
      "libTelephonyUtilDynamic.dylib\t   libnetsnmpagent.25.dylib\r\n",
      "libThaiTokenizer.dylib\t\t   libnetsnmpagent.dylib\r\n",
      "libUniversalAccess.dylib\t   libnetsnmphelpers.25.dylib\r\n",
      "libXplugin.1.dylib\t\t   libnetsnmphelpers.dylib\r\n",
      "libXplugin.dylib\t\t   libnetsnmpmibs.25.dylib\r\n",
      "libalias.A.dylib\t\t   libnetsnmpmibs.dylib\r\n",
      "libalias.dylib\t\t\t   libnetsnmptrapd.25.dylib\r\n",
      "libapr-1.0.dylib\t\t   libnetsnmptrapd.dylib\r\n",
      "libapr-1.dylib\t\t\t   libobjc.A.dylib\r\n",
      "libaprutil-1.0.dylib\t\t   libobjc.dylib\r\n",
      "libaprutil-1.dylib\t\t   libodfde.dylib\r\n",
      "libarchive.2.dylib\t\t   libodmodule.dylib\r\n",
      "libarchive.dylib\t\t   libpam.1.dylib\r\n",
      "libauditd.0.dylib\t\t   libpam.2.dylib\r\n",
      "libauditd.dylib\t\t\t   libpam.dylib\r\n",
      "libauto.dylib\t\t\t   libpanel.5.4.dylib\r\n",
      "libblas.dylib\t\t\t   libpanel.dylib\r\n",
      "libbsm.0.dylib\t\t\t   libpcap.A.dylib\r\n",
      "libbsm.dylib\t\t\t   libpcap.dylib\r\n",
      "libbz2.1.0.5.dylib\t\t   libpcre.0.dylib\r\n",
      "libbz2.1.0.dylib\t\t   libpcre.dylib\r\n",
      "libbz2.dylib\t\t\t   libpcreposix.0.dylib\r\n",
      "libc++.1.dylib\t\t\t   libpcreposix.dylib\r\n",
      "libc++.dylib\t\t\t   libpgtypes.3.3.dylib\r\n",
      "libc++abi.dylib\t\t\t   libpgtypes.3.dylib\r\n",
      "libc.dylib\t\t\t   libpgtypes.dylib\r\n",
      "libcblas.dylib\t\t\t   libpkstart.a\r\n",
      "libcharset.1.0.0.dylib\t\t   libpmenergy.dylib\r\n",
      "libcharset.1.dylib\t\t   libpmsample.dylib\r\n",
      "libcharset.dylib\t\t   libpoll.dylib\r\n",
      "libclapack.dylib\t\t   libpq.5.5.dylib\r\n",
      "libcmph.dylib\t\t\t   libpq.5.dylib\r\n",
      "libcom_err.dylib\t\t   libpq.dylib\r\n",
      "libcrypto.0.9.7.dylib\t\t   libproc.dylib\r\n",
      "libcrypto.0.9.8.dylib\t\t   libpthread.dylib\r\n",
      "libcrypto.dylib\t\t\t   libpython.dylib\r\n",
      "libcsfde.dylib\t\t\t   libpython2.6.dylib\r\n",
      "libcups.2.dylib\t\t\t   libpython2.7.dylib\r\n",
      "libcups.dylib\t\t\t   libquit.dylib\r\n",
      "libcupscgi.1.dylib\t\t   libreadline.dylib\r\n",
      "libcupscgi.dylib\t\t   libresolv.9.dylib\r\n",
      "libcupsimage.2.dylib\t\t   libresolv.dylib\r\n",
      "libcupsimage.dylib\t\t   librpcsvc.dylib\r\n",
      "libcupsmime.1.dylib\t\t   libruby.2.0.0.dylib\r\n",
      "libcupsmime.dylib\t\t   libruby.2.0.dylib\r\n",
      "libcupsppdc.1.dylib\t\t   libruby.dylib\r\n",
      "libcupsppdc.dylib\t\t   libsandbox.1.dylib\r\n",
      "libcurl.3.dylib\t\t\t   libsandbox.dylib\r\n",
      "libcurl.4.dylib\t\t\t   libsasl2.2.0.1.dylib\r\n",
      "libcurl.dylib\t\t\t   libsasl2.2.0.15.dylib\r\n",
      "libcurses.dylib\t\t\t   libsasl2.2.0.21.dylib\r\n",
      "libdbm.dylib\t\t\t   libsasl2.2.0.22.dylib\r\n",
      "libdes425.dylib\t\t\t   libsasl2.2.dylib\r\n",
      "libdl.dylib\t\t\t   libsasl2.dylib\r\n",
      "libdns_services.dylib\t\t   libspindump.dylib\r\n",
      "libdtrace.dylib\t\t\t   libsqlite3.0.dylib\r\n",
      "libecpg.6.4.dylib\t\t   libsqlite3.dylib\r\n",
      "libecpg.6.dylib\t\t\t   libssl.0.9.7.dylib\r\n",
      "libecpg.dylib\t\t\t   libssl.0.9.8.dylib\r\n",
      "libecpg_compat.3.4.dylib\t   libssl.dylib\r\n",
      "libecpg_compat.3.dylib\t\t   libstdc++.6.0.9.dylib\r\n",
      "libecpg_compat.dylib\t\t   libstdc++.6.dylib\r\n",
      "libedit.2.dylib\t\t\t   libstdc++.dylib\r\n",
      "libedit.3.0.dylib\t\t   libsysmon.dylib\r\n",
      "libedit.3.dylib\t\t\t   libtcl.dylib\r\n",
      "libedit.dylib\t\t\t   libtcl8.5.dylib\r\n",
      "libexpat.1.5.2.dylib\t\t   libtclstub8.5.a\r\n",
      "libexpat.1.dylib\t\t   libtermcap.dylib\r\n",
      "libexpat.dylib\t\t\t   libtidy.A.dylib\r\n",
      "libexslt.0.dylib\t\t   libtidy.dylib\r\n",
      "libexslt.dylib\t\t\t   libtk.dylib\r\n",
      "libextension.dylib\t\t   libtk8.5.dylib\r\n",
      "libf77lapack.dylib\t\t   libtkstub8.5.a\r\n",
      "libffi.dylib\t\t\t   libutil.dylib\r\n",
      "libform.5.4.dylib\t\t   libutil1.0.dylib\r\n",
      "libform.dylib\t\t\t   libxar.1.dylib\r\n",
      "libgcc_s.1.dylib\t\t   libxar.dylib\r\n",
      "libgcc_s.10.4.tbd\t\t   libxcselect.dylib\r\n",
      "libgcc_s.10.5.tbd\t\t   libxml2.2.dylib\r\n",
      "libgermantok.dylib\t\t   libxml2.dylib\r\n",
      "libgmalloc.dylib\t\t   libxslt.1.dylib\r\n",
      "libgssapi_krb5.dylib\t\t   libxslt.dylib\r\n",
      "libheimdal-asn1.dylib\t\t   liby.a\r\n",
      "libhunspell-1.2.0.0.0.dylib\t   libz.1.1.3.dylib\r\n",
      "libhunspell-1.2.0.dylib\t\t   libz.1.2.5.dylib\r\n",
      "libhunspell-1.2.dylib\t\t   libz.1.dylib\r\n",
      "libiconv.2.4.0.dylib\t\t   libz.dylib\r\n",
      "libiconv.2.dylib\t\t   pam\r\n",
      "libiconv.dylib\t\t\t   php\r\n",
      "libicucore.A.dylib\t\t   pkgconfig\r\n",
      "libicucore.dylib\t\t   python2.6\r\n",
      "libinfo.dylib\t\t\t   python2.7\r\n",
      "libiodbc.2.1.18.dylib\t\t   rpcsvc\r\n",
      "libiodbc.2.dylib\t\t   ruby\r\n",
      "libiodbc.dylib\t\t\t   sa\r\n",
      "libiodbcinst.2.1.18.dylib\t   sasl2\r\n",
      "libiodbcinst.2.dylib\t\t   sqlite3\r\n",
      "libiodbcinst.dylib\t\t   system\r\n",
      "libipconfig.dylib\t\t   tclConfig.sh\r\n",
      "libipsec.A.dylib\t\t   tkConfig.sh\r\n",
      "libipsec.dylib\t\t\t   xpc\r\n",
      "libk5crypto.dylib\t\t   zsh\r\n"
     ]
    }
   ],
   "source": [
    "!ls /usr/lib"
   ]
  },
  {
   "cell_type": "code",
   "execution_count": 4,
   "metadata": {
    "collapsed": true
   },
   "outputs": [],
   "source": [
    "from ctypes import CDLL\n",
    "libc_name = 'libc.dylib'\n",
    "libc = CDLL(libc_name)"
   ]
  },
  {
   "cell_type": "code",
   "execution_count": 5,
   "metadata": {
    "collapsed": false
   },
   "outputs": [
    {
     "data": {
      "text/plain": [
       "<_FuncPtr object at 0x105e49688>"
      ]
     },
     "execution_count": 5,
     "metadata": {},
     "output_type": "execute_result"
    }
   ],
   "source": [
    "libc.time"
   ]
  },
  {
   "cell_type": "code",
   "execution_count": 6,
   "metadata": {
    "collapsed": false
   },
   "outputs": [
    {
     "name": "stdout",
     "output_type": "stream",
     "text": [
      "Overwriting my_sum.c\n"
     ]
    }
   ],
   "source": [
    "%%file my_sum.c\n",
    "#include <stdio.h>\n",
    "\n",
    "// sum all the values in the array x\n",
    "// x is a pointer to a memory block \n",
    "// of length n\n",
    "int sum(int *x, int n)\n",
    "{\n",
    "  int i, counter;\n",
    "  counter = 0;\n",
    "  for(i=0; i<n; i++)\n",
    "    {\n",
    "      counter += x[i];\n",
    "    }\n",
    "  return counter;\n",
    "}"
   ]
  },
  {
   "cell_type": "code",
   "execution_count": 7,
   "metadata": {
    "collapsed": true
   },
   "outputs": [],
   "source": [
    "%%bash \n",
    "gcc -c my_sum.c\n",
    "gcc -shared -o my_sum.so my_sum.o"
   ]
  },
  {
   "cell_type": "code",
   "execution_count": 8,
   "metadata": {
    "collapsed": false
   },
   "outputs": [
    {
     "name": "stdout",
     "output_type": "stream",
     "text": [
      "my_sum.c  my_sum.o  my_sum.so\r\n"
     ]
    }
   ],
   "source": [
    "!ls my_sum.*"
   ]
  },
  {
   "cell_type": "markdown",
   "metadata": {},
   "source": [
    "\n",
    "Now we'll use the CTypes API to create Python objects that can be passed to this function:"
   ]
  },
  {
   "cell_type": "code",
   "execution_count": 9,
   "metadata": {
    "collapsed": false
   },
   "outputs": [
    {
     "data": {
      "text/plain": [
       "45"
      ]
     },
     "execution_count": 9,
     "metadata": {},
     "output_type": "execute_result"
    }
   ],
   "source": [
    "from ctypes import CDLL, c_void_p\n",
    "import numpy as np\n",
    "\n",
    "my_sum=CDLL('my_sum.so')\n",
    "\n",
    "a = np.arange(10, dtype=np.int32)\n",
    "adata = a.ctypes.data_as(c_void_p)\n",
    "asize = a.size\n",
    "\n",
    "my_sum.sum(adata, asize)"
   ]
  },
  {
   "cell_type": "code",
   "execution_count": 10,
   "metadata": {
    "collapsed": false
   },
   "outputs": [
    {
     "data": {
      "text/plain": [
       "45"
      ]
     },
     "execution_count": 10,
     "metadata": {},
     "output_type": "execute_result"
    }
   ],
   "source": [
    "a.sum()"
   ]
  },
  {
   "cell_type": "markdown",
   "metadata": {},
   "source": [
    "## Cython\n",
    "CTypes and F2Py provide the ability to wrap Fortran, C, and C++ code so that it can be imported into Python. Cython enables this as well, though we will not focus on that part of it here. The biggest part of Cython is that it lets you **convert** Python code and Python-like code into compiled C code, which can run many times faster than the original code.\n",
    "Let's see a quick example. Here's a Python function which computes the N^th fibonacci number:"
   ]
  },
  {
   "cell_type": "code",
   "execution_count": 11,
   "metadata": {
    "collapsed": true
   },
   "outputs": [],
   "source": [
    "def nth_fib(n):\n",
    "    a, b = 0, 1\n",
    "    for i in range(n):\n",
    "        b, a = a + b, b\n",
    "    return a"
   ]
  },
  {
   "cell_type": "code",
   "execution_count": 12,
   "metadata": {
    "collapsed": false
   },
   "outputs": [
    {
     "data": {
      "text/plain": [
       "[0,\n",
       " 1,\n",
       " 1,\n",
       " 2,\n",
       " 3,\n",
       " 5,\n",
       " 8,\n",
       " 13,\n",
       " 21,\n",
       " 34,\n",
       " 55,\n",
       " 89,\n",
       " 144,\n",
       " 233,\n",
       " 377,\n",
       " 610,\n",
       " 987,\n",
       " 1597,\n",
       " 2584,\n",
       " 4181]"
      ]
     },
     "execution_count": 12,
     "metadata": {},
     "output_type": "execute_result"
    }
   ],
   "source": [
    "[nth_fib(i) for i in range(20)]"
   ]
  },
  {
   "cell_type": "code",
   "execution_count": 13,
   "metadata": {
    "collapsed": false
   },
   "outputs": [
    {
     "name": "stdout",
     "output_type": "stream",
     "text": [
      "100 loops, best of 3: 2.37 ms per loop\n"
     ]
    }
   ],
   "source": [
    "%timeit nth_fib(10000)"
   ]
  },
  {
   "cell_type": "markdown",
   "metadata": {},
   "source": [
    "\n",
    "Now we'll take the exact same code, and compile it with Cython. In general, this will be done by saving the code to file, and running cython on the command line. You can read about that in the [documentation](cython.org). An example is included in this folder in the source code. Here we'll use IPython's Cython magic to streamline the process:"
   ]
  },
  {
   "cell_type": "code",
   "execution_count": 14,
   "metadata": {
    "collapsed": true
   },
   "outputs": [],
   "source": [
    "%load_ext cython"
   ]
  },
  {
   "cell_type": "code",
   "execution_count": 16,
   "metadata": {
    "collapsed": false
   },
   "outputs": [],
   "source": [
    "%%cython \n",
    "def nth_fib2(n):\n",
    "    a, b = 0, 1\n",
    "    for i in range(n):\n",
    "        b, a = a + b, b\n",
    "    return a"
   ]
  },
  {
   "cell_type": "code",
   "execution_count": 17,
   "metadata": {
    "collapsed": false
   },
   "outputs": [
    {
     "data": {
      "text/plain": [
       "[0, 1, 1, 2, 3, 5, 8, 13, 21, 34]"
      ]
     },
     "execution_count": 17,
     "metadata": {},
     "output_type": "execute_result"
    }
   ],
   "source": [
    "[nth_fib2(i) for i in range(10)]"
   ]
  },
  {
   "cell_type": "code",
   "execution_count": 18,
   "metadata": {
    "collapsed": false
   },
   "outputs": [
    {
     "name": "stdout",
     "output_type": "stream",
     "text": [
      "100 loops, best of 3: 2 ms per loop\n"
     ]
    }
   ],
   "source": [
    "%timeit nth_fib2(10000)"
   ]
  },
  {
   "cell_type": "markdown",
   "metadata": {},
   "source": [
    "Just compiling the code in Cython gave us a ~10% speedup.\n",
    "But we can do better by adding **type** annotations.\n",
    "See, the main reason Python is slow is because it has to do dynamic type checking each time it evaluates an expression. If we can tell Cython what the types are from the beginning, this step can be skipped, and we have large time savings. We do this through a cdef command. We also do the temporary assignment explicitly to remove the Python tuple assignment:"
   ]
  },
  {
   "cell_type": "code",
   "execution_count": 19,
   "metadata": {
    "collapsed": true
   },
   "outputs": [],
   "source": [
    "%%cython\n",
    "def nth_fib3(int n):\n",
    "    cdef int a = 0\n",
    "    cdef int b = 1\n",
    "    cdef int tmp\n",
    "    for i in range(n):\n",
    "        tmp = b\n",
    "        b = a + b\n",
    "        a = tmp \n",
    "    return a"
   ]
  },
  {
   "cell_type": "code",
   "execution_count": 20,
   "metadata": {
    "collapsed": false
   },
   "outputs": [
    {
     "data": {
      "text/plain": [
       "[0, 1, 1, 2, 3, 5, 8, 13, 21, 34]"
      ]
     },
     "execution_count": 20,
     "metadata": {},
     "output_type": "execute_result"
    }
   ],
   "source": [
    "[nth_fib3(i) for i in range(10)]"
   ]
  },
  {
   "cell_type": "code",
   "execution_count": 21,
   "metadata": {
    "collapsed": false
   },
   "outputs": [
    {
     "name": "stdout",
     "output_type": "stream",
     "text": [
      "Python only:\n",
      "100 loops, best of 3: 2.44 ms per loop\n",
      "Bare Cython:\n",
      "100 loops, best of 3: 2.37 ms per loop\n",
      "Typed Cython:\n",
      "100000 loops, best of 3: 3.14 µs per loop\n"
     ]
    }
   ],
   "source": [
    "print(\"Python only:\")\n",
    "%timeit nth_fib(10000)\n",
    "print(\"Bare Cython:\")\n",
    "%timeit nth_fib(10000)\n",
    "print(\"Typed Cython:\")\n",
    "%timeit nth_fib3(10000)"
   ]
  },
  {
   "cell_type": "markdown",
   "metadata": {},
   "source": [
    "# Using Cython with NumPy\n",
    "Cython provides a really nice interface to numpy arrays via the [Typed Memoryview](http://docs.cython.org/src/userguide/memoryviews.html) syntax. Let's implement the same fib function as above, but using Cython.\n",
    "First we'll simply compile our Python function again:"
   ]
  },
  {
   "cell_type": "code",
   "execution_count": 23,
   "metadata": {
    "collapsed": true
   },
   "outputs": [],
   "source": [
    "\n",
    "import numpy as np\n",
    "\n",
    "def fib_py(N):\n",
    "    x = np.zeros(N, dtype=float)\n",
    "    for i in range(N):\n",
    "        if i == 0:\n",
    "            x[i] = 0\n",
    "        elif i == 1:\n",
    "            x[i] = 1\n",
    "        else:\n",
    "            x[i] = x[i - 1] + x[i - 2]\n",
    "    return x"
   ]
  },
  {
   "cell_type": "code",
   "execution_count": 24,
   "metadata": {
    "collapsed": true
   },
   "outputs": [],
   "source": [
    "%%cython\n",
    "import numpy as np\n",
    "def fib_cy(N):\n",
    "    x = np.zeros(N, dtype=float)\n",
    "    for i in range(N):\n",
    "        if i == 0:\n",
    "            x[i] = 0\n",
    "        elif i == 1:\n",
    "            x[i] = 1\n",
    "        else:\n",
    "            x[i] = x[i - 1] + x[i - 2]\n",
    "    return x"
   ]
  },
  {
   "cell_type": "code",
   "execution_count": 25,
   "metadata": {
    "collapsed": false
   },
   "outputs": [
    {
     "name": "stdout",
     "output_type": "stream",
     "text": [
      "True\n",
      "100 loops, best of 3: 4.36 ms per loop"
     ]
    },
    {
     "name": "stderr",
     "output_type": "stream",
     "text": [
      "/Users/peadarcoyle/anaconda/envs/pydataamsterdam/lib/python3.4/site-packages/ipykernel/__main__.py:12: RuntimeWarning: overflow encountered in double_scalars\n",
      "/Users/peadarcoyle/anaconda/envs/pydataamsterdam/lib/python3.4/site-packages/ipykernel/__main__.py:1: RuntimeWarning: overflow encountered in double_scalars\n",
      "  if __name__ == '__main__':\n",
      "/Users/peadarcoyle/anaconda/envs/pydataamsterdam/lib/python3.4/site-packages/ipykernel/__main__.py:12: RuntimeWarning: overflow encountered in double_scalars\n",
      "/Users/peadarcoyle/anaconda/envs/pydataamsterdam/lib/python3.4/site-packages/ipykernel/__main__.py:257: RuntimeWarning: overflow encountered in double_scalars\n"
     ]
    },
    {
     "name": "stdout",
     "output_type": "stream",
     "text": [
      "\n",
      "100 loops, best of 3: 2.97 ms per loop\n"
     ]
    }
   ],
   "source": [
    "print(np.allclose(fib_py(10000), fib_cy(10000)))\n",
    "%timeit fib_py(10000)\n",
    "%timeit fib_cy(10000)"
   ]
  },
  {
   "cell_type": "markdown",
   "metadata": {},
   "source": [
    "Again, a very small improvement. Let's add some type information"
   ]
  },
  {
   "cell_type": "code",
   "execution_count": 27,
   "metadata": {
    "collapsed": false
   },
   "outputs": [],
   "source": [
    "%%cython\n",
    "import numpy as np\n",
    "from numpy cimport float_t\n",
    "\n",
    "def fib_cy2(int N):\n",
    "    cdef int i\n",
    "    cdef float_t[::1] x = np.zeros(N, dtype=float)\n",
    "    for i in range(N):\n",
    "        if i == 0:\n",
    "            x[i] = 0\n",
    "        elif i == 1:\n",
    "            x[i] = 1\n",
    "        else:\n",
    "            x[i] = x[i - 1] + x[i - 2]\n",
    "    return x"
   ]
  },
  {
   "cell_type": "code",
   "execution_count": 30,
   "metadata": {
    "collapsed": false
   },
   "outputs": [
    {
     "name": "stdout",
     "output_type": "stream",
     "text": [
      "100 loops, best of 3: 2.92 ms per loop\n"
     ]
    },
    {
     "name": "stderr",
     "output_type": "stream",
     "text": [
      "/Users/peadarcoyle/anaconda/envs/pydataamsterdam/lib/python3.4/site-packages/ipykernel/__main__.py:257: RuntimeWarning: overflow encountered in double_scalars\n"
     ]
    }
   ],
   "source": [
    "%timeit fib_cy(10000)\n"
   ]
  },
  {
   "cell_type": "code",
   "execution_count": 29,
   "metadata": {
    "collapsed": false
   },
   "outputs": [
    {
     "name": "stdout",
     "output_type": "stream",
     "text": [
      "10000 loops, best of 3: 33.6 µs per loop\n"
     ]
    }
   ],
   "source": [
    "%timeit fib_cy2(10000)"
   ]
  },
  {
   "cell_type": "markdown",
   "metadata": {},
   "source": [
    "Wow! Simply adding some type \n",
    "information for the Cython compiler made our \n",
    "code orders of magnitude faster! This is because the array can now be treated as a **contiguous memory block**\n",
    "rather than a Python object. This makes each of the indexing operations much more efficient, \n",
    "because they no longer have to go through the Python interface layer."
   ]
  },
  {
   "cell_type": "code",
   "execution_count": null,
   "metadata": {
    "collapsed": true
   },
   "outputs": [],
   "source": []
  }
 ],
 "metadata": {
  "kernelspec": {
   "display_name": "Python 3",
   "language": "python",
   "name": "python3"
  },
  "language_info": {
   "codemirror_mode": {
    "name": "ipython",
    "version": 3
   },
   "file_extension": ".py",
   "mimetype": "text/x-python",
   "name": "python",
   "nbconvert_exporter": "python",
   "pygments_lexer": "ipython3",
   "version": "3.4.4"
  }
 },
 "nbformat": 4,
 "nbformat_minor": 0
}
